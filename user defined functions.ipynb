{
 "cells": [
  {
   "cell_type": "code",
   "execution_count": 1,
   "id": "a7c1e0fc",
   "metadata": {},
   "outputs": [
    {
     "name": "stdout",
     "output_type": "stream",
     "text": [
      "hello world\n"
     ]
    }
   ],
   "source": [
    "#1.Write a function to great the world.\n",
    "def fun():\n",
    "    print(\"hello world\")\n",
    "fun()"
   ]
  },
  {
   "cell_type": "code",
   "execution_count": 44,
   "id": "bc17dd42",
   "metadata": {},
   "outputs": [
    {
     "name": "stdout",
     "output_type": "stream",
     "text": [
      "hello  priya\n"
     ]
    }
   ],
   "source": [
    "#2.Write a function to great your friend\n",
    "def frfun(name):\n",
    "    print(\"hello \",name)\n",
    "frfun(\"priya\")"
   ]
  },
  {
   "cell_type": "code",
   "execution_count": 2,
   "id": "ead2ac76",
   "metadata": {},
   "outputs": [
    {
     "name": "stdout",
     "output_type": "stream",
     "text": [
      "enter names with commapriya,mala\n",
      "hello  priya\n",
      "hello  mala\n"
     ]
    }
   ],
   "source": [
    "def frfun(name):\n",
    "    print(\"hello \",name)\n",
    "    \n",
    "a=input(\"enter names with comma\").split(',')\n",
    "for i in a:\n",
    "    frfun(i)"
   ]
  },
  {
   "cell_type": "code",
   "execution_count": 12,
   "id": "36fa4b00",
   "metadata": {},
   "outputs": [
    {
     "name": "stdout",
     "output_type": "stream",
     "text": [
      "hello priya\n",
      "hello bhavani\n",
      "hello mullai\n",
      "hello maria\n"
     ]
    }
   ],
   "source": [
    "#3.Write a function that takes a list of friends' names as a parameter and prints a personalized greeting for each friend.\n",
    "def lfun(name):\n",
    "    for x in name:\n",
    "        print(\"hello \"+ x)\n",
    "name=[\"priya\",\"bhavani\",\"mullai\",\"maria\"]\n",
    "lfun(name)"
   ]
  },
  {
   "cell_type": "code",
   "execution_count": 17,
   "id": "a3122326",
   "metadata": {},
   "outputs": [
    {
     "name": "stdout",
     "output_type": "stream",
     "text": [
      "hello mala\n",
      "hello barani\n",
      "hello priya\n"
     ]
    }
   ],
   "source": [
    "from typing import List\n",
    "\n",
    "def process_items(names: List[str]) -> None:\n",
    "    for n in names:\n",
    "        print(\"hello \"+ n)\n",
    "\n",
    "# Example usage\n",
    "namel = [\"mala\", \"barani\", \"priya\"]\n",
    "process_items(namel)\n"
   ]
  },
  {
   "cell_type": "code",
   "execution_count": 31,
   "id": "f1e1d60b",
   "metadata": {},
   "outputs": [
    {
     "name": "stdout",
     "output_type": "stream",
     "text": [
      "Distance covered is 30.00 km\n"
     ]
    }
   ],
   "source": [
    "#4.Write a function to find the distance for the user providing time & speed\n",
    "def timecal(time,speed):\n",
    "    if speed <= 0 or time <=0:\n",
    "        print(\"Speed and time must be greater than zero.\")\n",
    "    else:\n",
    "        distance = time * speed\n",
    "        print(f\"Distance covered is {distance:.2f} km\")\n",
    "        \n",
    "timecal(10,3)"
   ]
  },
  {
   "cell_type": "code",
   "execution_count": 18,
   "id": "66618cda",
   "metadata": {},
   "outputs": [
    {
     "name": "stdout",
     "output_type": "stream",
     "text": [
      "Birthday Party Invitations:\n",
      "Dear Alice,\n",
      "You are cordially invited to my birthday party!\n",
      "\n",
      "\n",
      "Dear Bob,\n",
      "You are cordially invited to my birthday party!\n",
      "\n",
      "\n",
      "Dear Charlie,\n",
      "You are cordially invited to my birthday party!\n",
      "\n",
      "\n",
      "Dear priya,\n",
      "You are cordially invited to my birthday party!\n",
      "\n",
      "\n"
     ]
    }
   ],
   "source": [
    "#5.Write a program that helps create birthday party invitations. The program should accept the names of friends as arguments using *args. It should then print out a personalized invitation for each friend.\n",
    "def create_invitations(*friend):\n",
    "    if len(friend) == 0:\n",
    "        print(\"No friends invited to the party.\")\n",
    "    else:\n",
    "        print(\"Birthday Party Invitations:\")\n",
    "        for f in friend:\n",
    "            print(f\"Dear {f},\")\n",
    "            print(\"You are cordially invited to my birthday party!\")\n",
    "            print(\"\\n\")\n",
    "# Example usage\n",
    "create_invitations(\"Alice\", \"Bob\", \"Charlie\",\"priya\")\n"
   ]
  },
  {
   "cell_type": "code",
   "execution_count": 19,
   "id": "d022e601",
   "metadata": {},
   "outputs": [
    {
     "name": "stdout",
     "output_type": "stream",
     "text": [
      "hhask \n",
      " dssfsdf\n"
     ]
    }
   ],
   "source": [
    "print(\"hhask \\n dssfsdf\")"
   ]
  },
  {
   "cell_type": "code",
   "execution_count": 8,
   "id": "0614a03a",
   "metadata": {},
   "outputs": [
    {
     "name": "stdout",
     "output_type": "stream",
     "text": [
      "OCTOBER MONTH GROCERY LIST\n",
      "1.rice\n",
      "2.wheat\n",
      "3.oil\n",
      "4.biscuit\n"
     ]
    }
   ],
   "source": [
    "#6.\n",
    "def g(*args):\n",
    "    print(\"OCTOBER MONTH GROCERY LIST\")\n",
    "    for i,items in enumerate(args,1):\n",
    "        print(f\"{i}.{items}\")\n",
    "    \n",
    "g(\"rice\",\"wheat\",\"oil\",\"biscuit\")"
   ]
  },
  {
   "cell_type": "code",
   "execution_count": 1,
   "id": "241a7c00",
   "metadata": {},
   "outputs": [
    {
     "name": "stdout",
     "output_type": "stream",
     "text": [
      "OCTOBER MONTH GROCERY LIST\n",
      "1.['rice', 'wheat', 'oil', 'biscuit']\n"
     ]
    }
   ],
   "source": [
    "def g(*args):\n",
    "    print(\"OCTOBER MONTH GROCERY LIST\")\n",
    "    for i,items in enumerate(args,1):\n",
    "        print(f\"{i}.{items}\")\n",
    "l=[\"rice\",\"wheat\",\"oil\",\"biscuit\"]   \n",
    "g(l)"
   ]
  },
  {
   "cell_type": "code",
   "execution_count": 2,
   "id": "f9afcf11",
   "metadata": {},
   "outputs": [
    {
     "name": "stdout",
     "output_type": "stream",
     "text": [
      "Favorite colors:\n",
      "1. Blue\n",
      "2. Green\n",
      "3. Red\n",
      "4. Yellow\n",
      "5. Purple\n"
     ]
    }
   ],
   "source": [
    "class FavoriteColors:\n",
    "    def __init__(self):\n",
    "        self.favorite_colors = []\n",
    "\n",
    "    def collect_colors(self, *args):\n",
    "        for color in args:\n",
    "            self.favorite_colors.append(color)\n",
    "\n",
    "    def display_colors(self):\n",
    "        if self.favorite_colors:\n",
    "            print(\"Favorite colors:\")\n",
    "            for idx, color in enumerate(self.favorite_colors, start=1):\n",
    "                print(f\"{idx}. {color}\")\n",
    "        else:\n",
    "            print(\"No favorite colors have been collected yet.\")\n",
    "\n",
    "if __name__ == \"__main__\":\n",
    "    friends_colors = FavoriteColors()\n",
    "\n",
    "    # Collecting favorite colors from friends\n",
    "    friends_colors.collect_colors(\"Blue\", \"Green\", \"Red\")\n",
    "    friends_colors.collect_colors(\"Yellow\", \"Purple\")\n",
    "\n",
    "    # Displaying favorite colors\n",
    "    friends_colors.display_colors()\n"
   ]
  },
  {
   "cell_type": "code",
   "execution_count": 6,
   "id": "7d0d76d3",
   "metadata": {},
   "outputs": [
    {
     "name": "stdout",
     "output_type": "stream",
     "text": [
      "Favorite colors:\n",
      "1. Blue\n",
      "2. Green\n",
      "3. Red\n"
     ]
    }
   ],
   "source": [
    "favorite_colors = []\n",
    "def collect_colors(*args):\n",
    "        for color in args:\n",
    "            favorite_colors.append(color)\n",
    "def display_colors():\n",
    "        if favorite_colors:\n",
    "            print(\"Favorite colors:\")\n",
    "            for idx, color in enumerate(favorite_colors,1):\n",
    "                print(f\"{idx}. {color}\")\n",
    "        else:\n",
    "            print(\"No favorite colors have been collected yet.\") \n",
    "collect_colors(\"Blue\", \"Green\", \"Red\")\n",
    "display_colors()"
   ]
  },
  {
   "cell_type": "code",
   "execution_count": 20,
   "id": "418f6228",
   "metadata": {},
   "outputs": [
    {
     "name": "stdout",
     "output_type": "stream",
     "text": [
      "Enter a fruit (or 'done' to exit): apple\n",
      "Enter a fruit (or 'done' to exit): mango\n",
      "Enter a fruit (or 'done' to exit): cherry\n",
      "Enter a fruit (or 'done' to exit): done\n",
      "1. apple\n",
      "2. mango\n",
      "3. cherry\n"
     ]
    }
   ],
   "source": [
    "def display(fru):\n",
    "    for i, item in enumerate(fru, 1):\n",
    "        print(f\"{i}. {item}\")\n",
    "\n",
    "def fruits():\n",
    "    fruit = []\n",
    "    while True:\n",
    "        i = input(\"Enter a fruit (or 'done' to exit): \")\n",
    "        if i != \"done\":\n",
    "            fruit.append(i)\n",
    "        else:\n",
    "            display(fruit)\n",
    "            break\n",
    "fruits()\n"
   ]
  },
  {
   "cell_type": "code",
   "execution_count": 28,
   "id": "57d7dca4",
   "metadata": {},
   "outputs": [
    {
     "name": "stdout",
     "output_type": "stream",
     "text": [
      "Enter a fruit (or 'done' to exit): apple\n",
      "Enter a fruit (or 'done' to exit): banana\n",
      "Enter a fruit (or 'done' to exit): cherry\n",
      "Enter a fruit (or 'done' to exit): done\n",
      "1. apple\n",
      "2. banana\n",
      "3. cherry\n"
     ]
    }
   ],
   "source": [
    "def fruits():\n",
    "    fruit_list = []\n",
    "    while True:\n",
    "        user_input = input(\"Enter a fruit (or 'done' to exit): \")\n",
    "        if user_input.lower() != \"done\":\n",
    "            fruit_list.append(user_input)\n",
    "        else:\n",
    "            for idx, item in enumerate(fruit_list, 1):\n",
    "                print(f\"{idx}. {item}\")\n",
    "            break\n",
    "\n",
    "fruits()\n"
   ]
  },
  {
   "cell_type": "code",
   "execution_count": 2,
   "id": "102acf63",
   "metadata": {},
   "outputs": [
    {
     "name": "stdout",
     "output_type": "stream",
     "text": [
      "Total cost including tax and shipping: $115.49\n"
     ]
    }
   ],
   "source": [
    "#8.Create a function that calculates the total cost of items in an online shopping cart, including tax and shipping fees.\n",
    "def calculate_total_cost(cart_items, tax_rate, shipping_fee):\n",
    "    subtotal = sum(cart_items)\n",
    "    tax_amount = subtotal * (tax_rate / 100)\n",
    "    total_cost = subtotal + tax_amount + shipping_fee\n",
    "    return total_cost\n",
    "\n",
    "# Example usage:\n",
    "cart_items = [25.99, 14.95, 9.99, 49.99]\n",
    "tax_rate = 8.5  # 8.5% tax rate\n",
    "shipping_fee = 5.99\n",
    "\n",
    "total_cost = calculate_total_cost(cart_items, tax_rate, shipping_fee)\n",
    "print(f\"Total cost including tax and shipping: ${total_cost:.2f}\")"
   ]
  },
  {
   "cell_type": "code",
   "execution_count": 4,
   "id": "85a50038",
   "metadata": {},
   "outputs": [
    {
     "name": "stdout",
     "output_type": "stream",
     "text": [
      "Student's Grade: B\n"
     ]
    }
   ],
   "source": [
    "#9.Develop a function that calculates a student's grade based on their scores in various subjects, following a predefined grading scale.\n",
    "def calculate_student_grade(subject_scores, grading_scale):\n",
    "    # Calculate the average score\n",
    "    if len(subject_scores) == 0:\n",
    "        return \"No scores available\"\n",
    "    \n",
    "    average_score = sum(subject_scores) / len(subject_scores)\n",
    "    \n",
    "    # Determine the grade based on the grading scale\n",
    "    for grade, score_range in grading_scale.items():\n",
    "        if score_range[0] <= average_score <= score_range[1]:\n",
    "            return grade\n",
    "    \n",
    "    # If the average score doesn't fall within any defined range, return \"Invalid\"\n",
    "    return \"Invalid\"\n",
    "\n",
    "# Define the grading scale (you can customize this as needed)\n",
    "grading_scale = {\n",
    "    \"A\": (90, 100),\n",
    "    \"B\": (80, 89),\n",
    "    \"C\": (70, 79),\n",
    "    \"D\": (60, 69),\n",
    "    \"F\": (0, 59)\n",
    "}\n",
    "\n",
    "# Example usage:\n",
    "subject_scores = [85, 92, 78, 95, 88]  # Scores in various subjects\n",
    "student_grade = calculate_student_grade(subject_scores, grading_scale)\n",
    "print(f\"Student's Grade: {student_grade}\")\n"
   ]
  },
  {
   "cell_type": "code",
   "execution_count": 5,
   "id": "10c2e997",
   "metadata": {},
   "outputs": [
    {
     "name": "stdout",
     "output_type": "stream",
     "text": [
      "B\n"
     ]
    }
   ],
   "source": [
    "def calculate_student_grade(subject_scores, grading_scale):\n",
    "    # Calculate the average score\n",
    "    if len(subject_scores) == 0:\n",
    "        return \"No scores available\"\n",
    "    \n",
    "    average_score = sum(subject_scores) / len(subject_scores)\n",
    "    if average_score >95:\n",
    "        print(\"s grade\")\n",
    "    elif average_score >90:\n",
    "        print(\"A\")\n",
    "    elif average_score >80:\n",
    "        print(\"B\")\n",
    "    elif average_score >70:\n",
    "        print(\"C\")\n",
    "    elif average_score >60:\n",
    "        print(\"D\")\n",
    "    elif average_score >50:\n",
    "        print(\"E\")\n",
    "    elif average_score <=50:\n",
    "        print(\"F\")\n",
    "subject_scores = [85, 92, 78, 95, 88]  # Scores in various subjects\n",
    "student_grade = calculate_student_grade(subject_scores, grading_scale)      "
   ]
  },
  {
   "cell_type": "code",
   "execution_count": 6,
   "id": "0b305b10",
   "metadata": {},
   "outputs": [
    {
     "name": "stdout",
     "output_type": "stream",
     "text": [
      "\n",
      "Options:\n",
      "1. Add Task\n",
      "2. Remove Task\n",
      "3. View Tasks\n",
      "4. Quit\n",
      "Enter your choice (1/2/3/4): 1\n",
      "Enter the task to add: MEETING\n",
      "Task 'MEETING' added to the to-do list.\n",
      "\n",
      "Options:\n",
      "1. Add Task\n",
      "2. Remove Task\n",
      "3. View Tasks\n",
      "4. Quit\n",
      "Enter your choice (1/2/3/4): 1\n",
      "Enter the task to add: SHOPPING\n",
      "Task 'SHOPPING' added to the to-do list.\n",
      "\n",
      "Options:\n",
      "1. Add Task\n",
      "2. Remove Task\n",
      "3. View Tasks\n",
      "4. Quit\n",
      "Enter your choice (1/2/3/4): 3\n",
      "To-Do List:\n",
      "1. MEETING\n",
      "2. SHOPPING\n",
      "\n",
      "Options:\n",
      "1. Add Task\n",
      "2. Remove Task\n",
      "3. View Tasks\n",
      "4. Quit\n",
      "Enter your choice (1/2/3/4): 2\n",
      "Enter the task to remove: SHOPPING\n",
      "Task 'SHOPPING' removed from the to-do list.\n",
      "\n",
      "Options:\n",
      "1. Add Task\n",
      "2. Remove Task\n",
      "3. View Tasks\n",
      "4. Quit\n",
      "Enter your choice (1/2/3/4): 3\n",
      "To-Do List:\n",
      "1. MEETING\n",
      "\n",
      "Options:\n",
      "1. Add Task\n",
      "2. Remove Task\n",
      "3. View Tasks\n",
      "4. Quit\n",
      "Enter your choice (1/2/3/4): 4\n",
      "Goodbye!\n"
     ]
    }
   ],
   "source": [
    "#10.Implement a to-do list application where you can add, remove, and view tasks. Create functions to perform these actions.\n",
    "# Initialize an empty list to store tasks\n",
    "tasks = []\n",
    "\n",
    "# Function to add a task to the to-do list\n",
    "def add_task(task):\n",
    "    tasks.append(task)\n",
    "    print(f\"Task '{task}' added to the to-do list.\")\n",
    "\n",
    "# Function to remove a task from the to-do list\n",
    "def remove_task(task):\n",
    "    if task in tasks:\n",
    "        tasks.remove(task)\n",
    "        print(f\"Task '{task}' removed from the to-do list.\")\n",
    "    else:\n",
    "        print(f\"Task '{task}' not found in the to-do list.\")\n",
    "\n",
    "# Function to view all tasks in the to-do list\n",
    "def view_tasks():\n",
    "    if tasks:\n",
    "        print(\"To-Do List:\")\n",
    "        for index, task in enumerate(tasks, start=1):\n",
    "            print(f\"{index}. {task}\")\n",
    "    else:\n",
    "        print(\"The to-do list is empty.\")\n",
    "\n",
    "# Main loop for the to-do list application\n",
    "while True:\n",
    "    print(\"\\nOptions:\")\n",
    "    print(\"1. Add Task\")\n",
    "    print(\"2. Remove Task\")\n",
    "    print(\"3. View Tasks\")\n",
    "    print(\"4. Quit\")\n",
    "\n",
    "    choice = input(\"Enter your choice (1/2/3/4): \")\n",
    "\n",
    "    if choice == \"1\":\n",
    "        task = input(\"Enter the task to add: \")\n",
    "        add_task(task)\n",
    "    elif choice == \"2\":\n",
    "        task = input(\"Enter the task to remove: \")\n",
    "        remove_task(task)\n",
    "    elif choice == \"3\":\n",
    "        view_tasks()\n",
    "    elif choice == \"4\":\n",
    "        print(\"Goodbye!\")\n",
    "        break\n",
    "    else:\n",
    "        print(\"Invalid choice. Please choose a valid option.\")\n"
   ]
  },
  {
   "cell_type": "code",
   "execution_count": 7,
   "id": "a9fd740b",
   "metadata": {},
   "outputs": [
    {
     "name": "stdout",
     "output_type": "stream",
     "text": [
      "\n",
      "Options:\n",
      "1. Convert Celsius to Fahrenheit\n",
      "2. Convert Fahrenheit to Celsius\n",
      "3. Quit\n",
      "Enter your choice (1/2/3): 12\n",
      "Invalid choice. Please choose a valid option.\n",
      "\n",
      "Options:\n",
      "1. Convert Celsius to Fahrenheit\n",
      "2. Convert Fahrenheit to Celsius\n",
      "3. Quit\n",
      "Enter your choice (1/2/3): 1\n",
      "Enter the temperature in Celsius: 12\n",
      "12.0°C is 53.60°F\n",
      "\n",
      "Options:\n",
      "1. Convert Celsius to Fahrenheit\n",
      "2. Convert Fahrenheit to Celsius\n",
      "3. Quit\n",
      "Enter your choice (1/2/3): 2\n",
      "Enter the temperature in Fahrenheit: 30\n",
      "30.0°F is -1.11°C\n",
      "\n",
      "Options:\n",
      "1. Convert Celsius to Fahrenheit\n",
      "2. Convert Fahrenheit to Celsius\n",
      "3. Quit\n",
      "Enter your choice (1/2/3): 3\n",
      "Goodbye!\n"
     ]
    }
   ],
   "source": [
    "#11.Build a function that converts temperatures between Celsius and Fahrenheit scales based on user input.\n",
    "def celsius_to_fahrenheit(celsius):\n",
    "    fahrenheit = (celsius * 9/5) + 32\n",
    "    return fahrenheit\n",
    "\n",
    "def fahrenheit_to_celsius(fahrenheit):\n",
    "    celsius = (fahrenheit - 32) * 5/9\n",
    "    return celsius\n",
    "\n",
    "while True:\n",
    "    print(\"\\nOptions:\")\n",
    "    print(\"1. Convert Celsius to Fahrenheit\")\n",
    "    print(\"2. Convert Fahrenheit to Celsius\")\n",
    "    print(\"3. Quit\")\n",
    "\n",
    "    choice = input(\"Enter your choice (1/2/3): \")\n",
    "\n",
    "    if choice == \"1\":\n",
    "        celsius = float(input(\"Enter the temperature in Celsius: \"))\n",
    "        result = celsius_to_fahrenheit(celsius)\n",
    "        print(f\"{celsius}°C is {result:.2f}°F\")\n",
    "    elif choice == \"2\":\n",
    "        fahrenheit = float(input(\"Enter the temperature in Fahrenheit: \"))\n",
    "        result = fahrenheit_to_celsius(fahrenheit)\n",
    "        print(f\"{fahrenheit}°F is {result:.2f}°C\")\n",
    "    elif choice == \"3\":\n",
    "        print(\"Goodbye!\")\n",
    "        break\n",
    "    else:\n",
    "        print(\"Invalid choice. Please choose a valid option.\")\n"
   ]
  },
  {
   "cell_type": "code",
   "execution_count": 5,
   "id": "f333bc66",
   "metadata": {},
   "outputs": [
    {
     "name": "stdout",
     "output_type": "stream",
     "text": [
      "Enter the conversion type: c/ff\n",
      "Enter value: 20\n",
      "20.0 Fahrenheit is equal to -6.67 Celsius\n"
     ]
    }
   ],
   "source": [
    "def userchoice():\n",
    "    a = input(\"Enter the conversion type: c/f\")\n",
    "    v = float(input(\"Enter value: \"))  # Use float instead of int for more precision\n",
    "\n",
    "    if a == \"c\":\n",
    "        result = celsius_to_fahrenheit(v)\n",
    "        print(f\"{v} Celsius is equal to {result:.2f} Fahrenheit\")\n",
    "    elif a == \"f\":\n",
    "        result = fahrenheit_to_celsius(v)\n",
    "        print(f\"{v} Fahrenheit is equal to {result:.2f} Celsius\")\n",
    "    else:\n",
    "        print(\"Invalid choice\")\n",
    "\n",
    "def celsius_to_fahrenheit(celsius):\n",
    "    fahrenheit = (celsius * 9/5) + 32\n",
    "    return fahrenheit\n",
    "\n",
    "def fahrenheit_to_celsius(fahrenheit):\n",
    "    celsius = (fahrenheit - 32) * 5/9\n",
    "    return celsius\n",
    "\n",
    "userchoice()\n"
   ]
  },
  {
   "cell_type": "code",
   "execution_count": 11,
   "id": "653320dc",
   "metadata": {},
   "outputs": [
    {
     "name": "stdout",
     "output_type": "stream",
     "text": [
      "Monthly EMI: $477.53\n"
     ]
    }
   ],
   "source": [
    "#12.Design a function that calculates the monthly EMI (Equated Monthly Installment) for a given loan amount, interest rate, and loan tenure.\n",
    "def calculate_emi(principal, annual_interest_rate, loan_tenure):\n",
    "    # Convert annual interest rate to monthly interest rate\n",
    "    monthly_interest_rate = annual_interest_rate / 12 / 100\n",
    "    # Calculate the number of monthly payments\n",
    "    num_payments = loan_tenure * 12\n",
    "    # Calculate EMI using the formula\n",
    "    emi = principal * monthly_interest_rate * (1 + monthly_interest_rate) ** num_payments / \\\n",
    "          ((1 + monthly_interest_rate) ** num_payments - 1)\n",
    "    \n",
    "    return emi\n",
    "\n",
    "# Example usage:\n",
    "principal = 25000\n",
    "# Loan amount in dollars\n",
    "annual_interest_rate = 5.5  # Annual interest rate in percentage\n",
    "loan_tenure = 5  # Loan tenure in years\n",
    "\n",
    "emi = calculate_emi(principal, annual_interest_rate, loan_tenure)\n",
    "print(f\"Monthly EMI: ${emi:.2f}\")\n"
   ]
  },
  {
   "cell_type": "code",
   "execution_count": 7,
   "id": "2a54a76e",
   "metadata": {},
   "outputs": [
    {
     "name": "stdout",
     "output_type": "stream",
     "text": [
      "24245.452086878067\n"
     ]
    }
   ],
   "source": [
    "def emi(p,i,t):\n",
    "    m = i / 12 / 100\n",
    "    n=t*12\n",
    "    e = p * m * (1 + m) ** n / ((1 + m) ** t - 1)\n",
    "    print(e)\n",
    "emi(150000,5,10)"
   ]
  },
  {
   "cell_type": "code",
   "execution_count": 28,
   "id": "1ca01c53",
   "metadata": {},
   "outputs": [
    {
     "name": "stdout",
     "output_type": "stream",
     "text": [
      "Word Count: 36\n",
      "Paragraph Count: 4\n"
     ]
    }
   ],
   "source": [
    "#13.Create a function that analyzes a text document, counting the number of words and paragraphs.\n",
    "def analyze_text(text):\n",
    "    # Count words by splitting on whitespace\n",
    "    words = text.split()\n",
    "    word_count = len(words)\n",
    "\n",
    "    # Count paragraphs by splitting on double line breaks\n",
    "    paragraphs = text.split('\\n\\n')\n",
    "    paragraph_count = len(paragraphs)\n",
    "\n",
    "    return {\n",
    "        \"word_count\": word_count,\n",
    "        \"paragraph_count\": paragraph_count\n",
    "    }\n",
    "\n",
    "# Example usage:\n",
    "text = \"\"\"\n",
    "This is a sample text document. It contains multiple sentences.\n",
    "\n",
    "Each sentence demonstrates the functionality of the analysis function.\n",
    "\n",
    "A paragraph is a group of sentences separated by a blank line.\n",
    "\n",
    "This is the last paragraph.\n",
    "\"\"\"\n",
    "\n",
    "result = analyze_text(text)\n",
    "print(\"Word Count:\", result[\"word_count\"])\n",
    "print(\"Paragraph Count:\", result[\"paragraph_count\"])\n"
   ]
  },
  {
   "cell_type": "code",
   "execution_count": 8,
   "id": "b81ba226",
   "metadata": {},
   "outputs": [
    {
     "name": "stdout",
     "output_type": "stream",
     "text": [
      "4\n"
     ]
    }
   ],
   "source": [
    "text = \"\"\"\n",
    "This is a sample text document. It contains multiple sentences.\n",
    "\n",
    "Each sentence demonstrates the functionality of the analysis function.\n",
    "\n",
    "A paragraph is a group of sentences separated by a blank line.\n",
    "\n",
    "This is the last paragraph.\n",
    "\"\"\"\n",
    "paragraphs = text.split('\\n\\n')\n",
    "paragraph_count = len(paragraphs)\n",
    "print(paragraph_count)"
   ]
  },
  {
   "cell_type": "code",
   "execution_count": 29,
   "id": "86f2ecc2",
   "metadata": {},
   "outputs": [
    {
     "name": "stdout",
     "output_type": "stream",
     "text": [
      "Monthly Salary: $9400.00\n"
     ]
    }
   ],
   "source": [
    "#14.Design a function that computes the monthly salary for employees, considering their hourly wage, hours worked, and deductions.\n",
    "def calculate_monthly_salary(hourly_wage, hours_worked, deductions):\n",
    "    # Calculate the gross monthly income\n",
    "    gross_salary = hourly_wage * hours_worked * 4  # Assuming 4 weeks in a month\n",
    "\n",
    "    # Subtract deductions from the gross salary\n",
    "    net_salary = gross_salary - deductions\n",
    "\n",
    "    return net_salary\n",
    "\n",
    "# Example usage:\n",
    "hourly_wage = 15.0  # Hourly wage in dollars\n",
    "hours_worked = 160  # Hours worked in a month\n",
    "deductions = 200    # Total deductions in dollars\n",
    "\n",
    "monthly_salary = calculate_monthly_salary(hourly_wage, hours_worked, deductions)\n",
    "print(f\"Monthly Salary: ${monthly_salary:.2f}\")\n"
   ]
  },
  {
   "cell_type": "code",
   "execution_count": 35,
   "id": "2223ea25",
   "metadata": {},
   "outputs": [
    {
     "name": "stdout",
     "output_type": "stream",
     "text": [
      "Likes: 100\n",
      "Shares: 50\n",
      "Comments: 3\n"
     ]
    }
   ],
   "source": [
    "#15.Create functions to analyze social media data, such as counting the number of likes, shares, and comments on posts.\n",
    "# Sample social media post data (you can customize this as needed)\n",
    "social_media_post = {\n",
    "    \"likes\": 100,\n",
    "    \"shares\": 50,\n",
    "    \"comments\": [\"Great post!\", \"Interesting!\", \"Thanks for sharing!\"]\n",
    "}\n",
    "\n",
    "# Function to count the number of likes on a post\n",
    "def count_likes(post_data):\n",
    "    return social_media_post[\"likes\"]\n",
    "\n",
    "# Function to count the number of shares on a post\n",
    "def count_shares(post_data):\n",
    "    return social_media_post[\"shares\"]\n",
    "\n",
    "# Function to count the number of comments on a post\n",
    "def count_comments(post_data):\n",
    "    comments = social_media_post[\"comments\"]\n",
    "    return len(comments)\n",
    "\n",
    "# Example usage:\n",
    "likes_count = count_likes(social_media_post)\n",
    "shares_count = count_shares(social_media_post)\n",
    "comments_count = count_comments(social_media_post)\n",
    "\n",
    "print(f\"Likes: {likes_count}\")\n",
    "print(f\"Shares: {shares_count}\")\n",
    "print(f\"Comments: {comments_count}\")\n"
   ]
  },
  {
   "cell_type": "code",
   "execution_count": 6,
   "id": "3b7ba18a",
   "metadata": {},
   "outputs": [
    {
     "name": "stdout",
     "output_type": "stream",
     "text": [
      "likes: 3\n",
      "dislikes:  1\n",
      "shares:  4\n",
      "comments : 3\n"
     ]
    }
   ],
   "source": [
    "like=[1,0,0,-1,1,1]\n",
    "share=[1,1,1,0,0,1]\n",
    "comment=[\"good\",\"interesting\",\"great\"]\n",
    "def social(like,share,comment):\n",
    "    l=0\n",
    "    d=0\n",
    "    for i in like:\n",
    "        if i==1:\n",
    "            l+=1\n",
    "        elif i==-1:\n",
    "            d+=1\n",
    "    print(\"likes:\",l)\n",
    "    print(\"dislikes: \", d)\n",
    "    s=0\n",
    "    for j in share:\n",
    "         if j==1:\n",
    "            s+=1\n",
    "    print(\"shares: \",s)\n",
    "    c=len(comment)\n",
    "    print(\"comments :\",l)\n",
    "social(like,share,comment)"
   ]
  },
  {
   "cell_type": "code",
   "execution_count": null,
   "id": "1a9384d7",
   "metadata": {},
   "outputs": [],
   "source": [
    "like=[1,0,0,-1,1,1]\n",
    "share=[1,1,1,0,0,1]\n",
    "comment=[\"good\",\"interesting\",\"great\"]\n",
    "def social(like):\n",
    "    l=0\n",
    "    d=0\n",
    "    for i in like:\n",
    "        if i==1:\n",
    "            l+=1\n",
    "        elif i==-1:\n",
    "            d+=1\n",
    "    print(\"likes:\",l)\n",
    "    print(\"dislikes: \", d)"
   ]
  },
  {
   "cell_type": "code",
   "execution_count": 40,
   "id": "c967077d",
   "metadata": {},
   "outputs": [
    {
     "name": "stdout",
     "output_type": "stream",
     "text": [
      "Total Steps: 58000\n",
      "Calories Burned: 2900.0 calories\n",
      "Distance Walked: 44.62 kilometers\n"
     ]
    }
   ],
   "source": [
    "# Define constants for calorie calculation\n",
    "CALORIES_BURNED_PER_STEP = 0.05  # Calories burned per step (example value)\n",
    "STEPS_PER_KILOMETER = 1300  # Average number of steps per kilometer (example value)\n",
    "\n",
    "# Function to track daily steps\n",
    "def track_daily_steps(steps_today, total_steps):\n",
    "    total_steps += steps_today\n",
    "    return total_steps\n",
    "\n",
    "# Function to calculate calories burned\n",
    "def calculate_calories_burned(total_steps):\n",
    "    calories_burned = total_steps * CALORIES_BURNED_PER_STEP\n",
    "    return calories_burned\n",
    "\n",
    "# Function to calculate distance walked\n",
    "def calculate_distance_walked(total_steps):\n",
    "    kilometers_walked = total_steps / STEPS_PER_KILOMETER\n",
    "    return kilometers_walked\n",
    "\n",
    "# Example usage:\n",
    "total_steps_today = 8000  # Example: Total steps walked today\n",
    "total_steps = 50000  # Example: Total steps tracked so far\n",
    "\n",
    "# Track daily steps and update the total\n",
    "total_steps = track_daily_steps(total_steps_today, total_steps)\n",
    "\n",
    "# Calculate calories burned and distance walked\n",
    "calories_burned = calculate_calories_burned(total_steps)\n",
    "distance_walked = calculate_distance_walked(total_steps)\n",
    "\n",
    "print(f\"Total Steps: {total_steps}\")\n",
    "print(f\"Calories Burned: {calories_burned} calories\")\n",
    "print(f\"Distance Walked: {distance_walked:.2f} kilometers\")\n"
   ]
  },
  {
   "cell_type": "code",
   "execution_count": 41,
   "id": "0c63fbd1",
   "metadata": {},
   "outputs": [
    {
     "name": "stdout",
     "output_type": "stream",
     "text": [
      "Total Steps: 58000\n",
      "Calories Burned: 2900.0 calories\n",
      "Distance Walked: 44.62 kilometers\n"
     ]
    }
   ],
   "source": [
    "#16.Develop functions to track and calculate fitness metrics such as daily steps, calories burned, and distance walked.\n",
    "# Define constants for calorie calculation\n",
    "CALORIES_BURNED_PER_STEP = 0.05  # Calories burned per step (example value)\n",
    "STEPS_PER_KILOMETER = 1300  # Average number of steps per kilometer (example value)\n",
    "\n",
    "# Function to track daily steps\n",
    "def track_daily_steps(steps_today, total_steps):\n",
    "    total_steps += steps_today\n",
    "    return total_steps\n",
    "\n",
    "# Function to calculate calories burned\n",
    "def calculate_calories_burned(total_steps):\n",
    "    calories_burned = total_steps * CALORIES_BURNED_PER_STEP\n",
    "    return calories_burned\n",
    "\n",
    "# Function to calculate distance walked\n",
    "def calculate_distance_walked(total_steps):\n",
    "    kilometers_walked = total_steps / STEPS_PER_KILOMETER\n",
    "    return kilometers_walked\n",
    "\n",
    "# Example usage:\n",
    "total_steps_today = 8000  # Example: Total steps walked today\n",
    "total_steps = 50000  # Example: Total steps tracked so far\n",
    "\n",
    "# Track daily steps and update the total\n",
    "total_steps = track_daily_steps(total_steps_today, total_steps)\n",
    "\n",
    "# Calculate calories burned and distance walked\n",
    "calories_burned = calculate_calories_burned(total_steps)\n",
    "distance_walked = calculate_distance_walked(total_steps)\n",
    "\n",
    "print(f\"Total Steps: {total_steps}\")\n",
    "print(f\"Calories Burned: {calories_burned} calories\")\n",
    "print(f\"Distance Walked: {distance_walked:.2f} kilometers\")\n"
   ]
  },
  {
   "cell_type": "code",
   "execution_count": 6,
   "id": "17eccbf3",
   "metadata": {},
   "outputs": [
    {
     "name": "stdout",
     "output_type": "stream",
     "text": [
      "no. of steps :1500\n",
      "no. of steps :200\n",
      "no. of steps :5000\n",
      "no of steps covered : 6700\n",
      "cal burned  495.0\n",
      "dist covered : 9.9\n"
     ]
    }
   ],
   "source": [
    "def track_fitness(steps,cal_bur,dist):\n",
    "    for i in range(3):\n",
    "        d1 = int(input(\"no. of steps :\"))\n",
    "        steps += d1\n",
    "        cal_bur += steps*.05\n",
    "        dist += steps/1000\n",
    "  \n",
    "    print(\"no of steps covered :\", steps)\n",
    "    print(\"cal burned \", cal_bur)\n",
    "    print(\"dist covered :\", dist)\n",
    "steps = 0\n",
    "cal_bur = 0\n",
    "dist =0    \n",
    "track_fitness(steps,cal_bur,dist)"
   ]
  },
  {
   "cell_type": "code",
   "execution_count": 42,
   "id": "17dfd9c0",
   "metadata": {},
   "outputs": [
    {
     "name": "stdout",
     "output_type": "stream",
     "text": [
      "Book 'The Great Gatsby' by F. Scott Fitzgerald with ISBN 9780140283297 added to the catalog.\n",
      "Book 'To Kill a Mockingbird' by Harper Lee with ISBN 9780061120084 added to the catalog.\n",
      "Book '1984' by George Orwell with ISBN 9780451524935 added to the catalog.\n",
      "Book Information - Title: The Great Gatsby, Author: F. Scott Fitzgerald, ISBN: 9780140283297\n",
      "Book Information - Title: 1984, Author: George Orwell, ISBN: 9780451524935\n",
      "Book 'To Kill a Mockingbird' by Harper Lee with ISBN 9780061120084 removed from the catalog.\n",
      "Book with ISBN 9780061120084 not found in the catalog.\n"
     ]
    }
   ],
   "source": [
    "#17.Implement functions for managing a library catalog, including adding, removing, and searching for books.\n",
    "\n",
    "# Create an empty library catalog as a dictionary\n",
    "library_catalog = {}\n",
    "\n",
    "# Function to add a book to the library catalog\n",
    "def add_book(title, author, isbn):\n",
    "    if isbn not in library_catalog:\n",
    "        library_catalog[isbn] = {\"title\": title, \"author\": author}\n",
    "        print(f\"Book '{title}' by {author} with ISBN {isbn} added to the catalog.\")\n",
    "    else:\n",
    "        print(f\"Book with ISBN {isbn} already exists in the catalog.\")\n",
    "\n",
    "# Function to remove a book from the library catalog\n",
    "def remove_book(isbn):\n",
    "    if isbn in library_catalog:\n",
    "        book = library_catalog.pop(isbn)\n",
    "        print(f\"Book '{book['title']}' by {book['author']} with ISBN {isbn} removed from the catalog.\")\n",
    "    else:\n",
    "        print(f\"Book with ISBN {isbn} not found in the catalog.\")\n",
    "\n",
    "# Function to search for a book in the library catalog\n",
    "def search_book(isbn):\n",
    "    if isbn in library_catalog:\n",
    "        book = library_catalog[isbn]\n",
    "        print(f\"Book Information - Title: {book['title']}, Author: {book['author']}, ISBN: {isbn}\")\n",
    "    else:\n",
    "        print(f\"Book with ISBN {isbn} not found in the catalog.\")\n",
    "\n",
    "# Example usage:\n",
    "add_book(\"The Great Gatsby\", \"F. Scott Fitzgerald\", \"9780140283297\")\n",
    "add_book(\"To Kill a Mockingbird\", \"Harper Lee\", \"9780061120084\")\n",
    "add_book(\"1984\", \"George Orwell\", \"9780451524935\")\n",
    "\n",
    "search_book(\"9780140283297\")\n",
    "search_book(\"9780451524935\")\n",
    "\n",
    "remove_book(\"9780061120084\")\n",
    "\n",
    "search_book(\"9780061120084\")\n"
   ]
  },
  {
   "cell_type": "code",
   "execution_count": 43,
   "id": "bd1768de",
   "metadata": {},
   "outputs": [
    {
     "name": "stdout",
     "output_type": "stream",
     "text": [
      "Expense Report:\n",
      "Food: $70.00 (50.00%)\n",
      "Transportation: $30.00 (21.43%)\n",
      "Entertainment: $40.00 (28.57%)\n",
      "Total Expenses: $140.00\n"
     ]
    }
   ],
   "source": [
    "#18.Build a function that allows users to record and categorize their daily expenses and generate reports based on spending categories.\n",
    "# Create an empty dictionary to store expenses by category\n",
    "expenses = {}\n",
    "\n",
    "# Function to record an expense\n",
    "def record_expense(category, amount):\n",
    "    if category in expenses:\n",
    "        expenses[category] += amount\n",
    "    else:\n",
    "        expenses[category] = amount\n",
    "\n",
    "# Function to generate an expense report\n",
    "def generate_expense_report():\n",
    "    total_expenses = sum(expenses.values())\n",
    "    if total_expenses == 0:\n",
    "        print(\"No expenses recorded yet.\")\n",
    "        return\n",
    "\n",
    "    print(\"Expense Report:\")\n",
    "    for category, amount in expenses.items():\n",
    "        percentage = (amount / total_expenses) * 100\n",
    "        print(f\"{category}: ${amount:.2f} ({percentage:.2f}%)\")\n",
    "    print(f\"Total Expenses: ${total_expenses:.2f}\")\n",
    "\n",
    "# Example usage:\n",
    "record_expense(\"Food\", 50.00)\n",
    "record_expense(\"Transportation\", 30.00)\n",
    "record_expense(\"Food\", 20.00)  # Adding more expenses to the same category\n",
    "record_expense(\"Entertainment\", 40.00)\n",
    "\n",
    "generate_expense_report()\n"
   ]
  },
  {
   "cell_type": "code",
   "execution_count": 76,
   "id": "481115d8",
   "metadata": {},
   "outputs": [
    {
     "name": "stdout",
     "output_type": "stream",
     "text": [
      "What is the capital of France?\n",
      "1. London\n",
      "2. Berlin\n",
      "3. Paris\n",
      "4. Madrid\n",
      "Enter the number of your choice: js\n",
      "What is 7 + 3?\n",
      "1. 5\n",
      "2. 9\n",
      "3. 10\n",
      "4. 12\n",
      "Enter the number of your choice: 10\n",
      "What is 2+5?\n",
      "1. 5\n",
      "2. 7\n",
      "3. 10\n",
      "4. 12\n",
      "Enter the number of your choice: 3\n",
      "\n",
      "Quiz Results:\n",
      "You scored 1 out of 3 questions correctly.\n",
      "Your percentage score: 33.33%\n",
      "You did not pass. Please review your answers and try again.\n"
     ]
    }
   ],
   "source": [
    "#19.Build functions for creating, taking, and grading quizzes, with support for multiple-choice \n",
    "# Define a dictionary to store quiz questions and answers\n",
    "quiz_questions = {}\n",
    "\n",
    "# Function to add a multiple-choice question to the quiz\n",
    "def add_multiple_choice_question(question, options, correct_option):\n",
    "    quiz_questions[question] = {\n",
    "        \"type\": \"multiple-choice\",\n",
    "        \"options\": options,\n",
    "        \"correct_option\": correct_option,\n",
    "    }\n",
    "\n",
    "# Function to take the quiz and return the user's score\n",
    "def take_quiz():\n",
    "    score = 0\n",
    "    for question, details in quiz_questions.items():\n",
    "        print(question)\n",
    "        options = details[\"options\"]\n",
    "        for i, option in enumerate(options, start=1):\n",
    "            print(f\"{i}. {option}\")\n",
    "        \n",
    "        user_answer = input(\"Enter the number of your choice: \")\n",
    "        correct_option = details[\"correct_option\"]\n",
    "\n",
    "        if user_answer == str(correct_option):\n",
    "            score += 1\n",
    "\n",
    "    return score\n",
    "\n",
    "# Function to grade the quiz and provide feedback\n",
    "def grade_quiz(score):\n",
    "    total_questions = len(quiz_questions)\n",
    "    percentage_score = (score / total_questions) * 100\n",
    "\n",
    "    print(\"\\nQuiz Results:\")\n",
    "    print(f\"You scored {score} out of {total_questions} questions correctly.\")\n",
    "    print(f\"Your percentage score: {percentage_score:.2f}%\")\n",
    "    \n",
    "    if percentage_score >= 70:\n",
    "        print(\"Congratulations, you passed!\")\n",
    "    else:\n",
    "        print(\"You did not pass. Please review your answers and try again.\")\n",
    "\n",
    "# Example usage:\n",
    "add_multiple_choice_question(\"What is the capital of France?\", [\"London\", \"Berlin\", \"Paris\", \"Madrid\"], \"paris\")\n",
    "add_multiple_choice_question(\"What is 7 + 3?\", [\"5\", \"9\", \"10\", \"12\"], \"10\")\n",
    "add_multiple_choice_question(\"What is 2+5?\", [\"5\", \"7\", \"10\", \"12\"], \"7\")\n",
    "user_score = take_quiz()\n",
    "grade_quiz(user_score)\n"
   ]
  },
  {
   "cell_type": "code",
   "execution_count": 11,
   "id": "e5a1825d",
   "metadata": {},
   "outputs": [
    {
     "name": "stdout",
     "output_type": "stream",
     "text": [
      "Welcome to the Quiz!\n",
      "Question 1: What is the capital of France?\n",
      "Your Answer: paris\n",
      "Question 2: What is the largest planet in our solar system?\n",
      "Your Answer: jupiter\n",
      "Your Score: 2\n",
      "Result: Pass\n"
     ]
    }
   ],
   "source": [
    "#20.20.\tBuild functions for creating, taking, and grading quizzes, with support for open-ended questions. if score greater than 50 pass else fail show relevant message according to this condition.\n",
    "# Define a list to store the quiz questions and answers.\n",
    "quiz_questions = []\n",
    "quiz_answers = []\n",
    "\n",
    "# Function to create a quiz question.\n",
    "def create_quiz_question(question, answer):\n",
    "    quiz_questions.append(question)\n",
    "    quiz_answers.append(answer)\n",
    "\n",
    "# Function to take the quiz and return the score.\n",
    "def take_quiz():\n",
    "    score = 0\n",
    "    for i, question in enumerate(quiz_questions):\n",
    "        print(f\"Question {i + 1}: {question}\")\n",
    "        user_answer = input(\"Your Answer: \")\n",
    "        if user_answer.lower() == quiz_answers[i].lower():\n",
    "            score += 1\n",
    "    return score\n",
    "\n",
    "# Function to determine if the student passes or fails.\n",
    "def determine_pass_fail(score):\n",
    "    if score > len(quiz_questions)/2:\n",
    "        return \"Pass\"\n",
    "    else:\n",
    "        return \"Fail\"\n",
    "\n",
    "create_quiz_question(\"What is the capital of France?\", \"paris\")\n",
    "create_quiz_question(\"What is the largest planet in our solar system?\", \"jupiter\")\n",
    "\n",
    "\n",
    "    # Take the quiz\n",
    "print(\"Welcome to the Quiz!\")\n",
    "user_score = take_quiz()\n",
    "\n",
    "    # Determine if the student passes or fails and display a relevant message.\n",
    "result = determine_pass_fail(user_score)\n",
    "print(f\"Your Score: {user_score}\")\n",
    "print(f\"Result: {result}\")\n"
   ]
  },
  {
   "cell_type": "code",
   "execution_count": 4,
   "id": "4bcb9285",
   "metadata": {},
   "outputs": [
    {
     "name": "stdout",
     "output_type": "stream",
     "text": [
      "What is the capital of France?\n",
      "Options:\n",
      "1. Berlin\n",
      "2. Madrid\n",
      "3. Paris\n",
      "Your answer (enter the option number): 3\n",
      "Which planet is known as the Red Planet?\n",
      "Options:\n",
      "1. Venus\n",
      "2. Mars\n",
      "3. Jupiter\n",
      "Your answer (enter the option number): 2\n",
      "What is the largest mammal?\n",
      "Options:\n",
      "1. Elephant\n",
      "2. Blue Whale\n",
      "3. Giraffe\n",
      "Your answer (enter the option number): 2\n",
      "Congratulations! You passed with a score of 3.\n"
     ]
    }
   ],
   "source": [
    "def create_quiz(questions):\n",
    "    quiz = []\n",
    "    for question in questions:\n",
    "        quiz.append(question)\n",
    "    return quiz\n",
    "\n",
    "def take_quiz(quiz):\n",
    "    score = 0\n",
    "    for question in quiz:\n",
    "        print(question['question'])\n",
    "        print(\"Options:\")\n",
    "        for i, option in enumerate(question['options'], start=1):\n",
    "            print(f\"{i}. {option}\")\n",
    "\n",
    "        user_answer = int(input(\"Your answer (enter the option number): \"))\n",
    "        correct_answer = question['correct_answer']\n",
    "\n",
    "        if user_answer == correct_answer:\n",
    "            score += 1\n",
    "\n",
    "    return score\n",
    "\n",
    "def grade_quiz(score):\n",
    "    \n",
    "    if score > 2:\n",
    "        message = f\"Congratulations! You passed with a score of {score}.\"\n",
    "    else:\n",
    "        message = f\"Sorry, you failed with a score of {score}. Better luck next time.\"\n",
    "\n",
    "    return message\n",
    "\n",
    "# Example Usage:\n",
    "\n",
    "# Create a quiz\n",
    "quiz_questions = [\n",
    "    {'question': 'What is the capital of France?', 'options': ['Berlin', 'Madrid', 'Paris'], 'correct_answer': 3},\n",
    "    {'question': 'Which planet is known as the Red Planet?', 'options': ['Venus', 'Mars', 'Jupiter'], 'correct_answer': 2},\n",
    "    {'question': 'What is the largest mammal?', 'options': ['Elephant', 'Blue Whale', 'Giraffe'], 'correct_answer': 2}\n",
    "]\n",
    "\n",
    "quiz = create_quiz(quiz_questions)\n",
    "\n",
    "# Take the quiz\n",
    "participant_score = take_quiz(quiz)\n",
    "\n",
    "# Grade the quiz\n",
    "result_message = grade_quiz(participant_score)\n",
    "\n",
    "# Display the result message\n",
    "print(result_message)\n"
   ]
  },
  {
   "cell_type": "code",
   "execution_count": 18,
   "id": "ef87aeff",
   "metadata": {},
   "outputs": [
    {
     "name": "stdout",
     "output_type": "stream",
     "text": [
      "Enter a new question (or 'done' to exit): capital of TN\n",
      "Enter options separated by commas: BANGALORE,CHENNAI,HYDERABAD\n",
      "Enter the correct option number: 2\n",
      "Enter a new question (or 'done' to exit): DONE\n",
      "Updated quiz questions:\n",
      "[{'question': 'What is the capital of France?', 'options': ['Berlin', 'Madrid', 'Paris'], 'correct_answer': 3}, {'question': 'Which planet is known as the Red Planet?', 'options': ['Venus', 'Mars', 'Jupiter'], 'correct_answer': 2}, {'question': 'What is the largest mammal?', 'options': ['Elephant', 'Blue Whale', 'Giraffe'], 'correct_answer': 2}, {'question': 'capital of TN', 'options': ['BANGALORE', 'CHENNAI', 'HYDERABAD'], 'correct_answer': 2}]\n"
     ]
    }
   ],
   "source": [
    "quiz_questions = [\n",
    "    {'question': 'What is the capital of France?', 'options': ['Berlin', 'Madrid', 'Paris'], 'correct_answer': 3},\n",
    "    {'question': 'Which planet is known as the Red Planet?', 'options': ['Venus', 'Mars', 'Jupiter'], 'correct_answer': 2},\n",
    "    {'question': 'What is the largest mammal?', 'options': ['Elephant', 'Blue Whale', 'Giraffe'], 'correct_answer': 2}\n",
    "]\n",
    "\n",
    "while True:\n",
    "    new_question = input(\"Enter a new question (or 'done' to exit): \")\n",
    "    \n",
    "    if new_question.lower() == 'done':\n",
    "        break\n",
    "\n",
    "    options = input(\"Enter options separated by commas: \").split(',')\n",
    "    correct_answer = int(input(\"Enter the correct option number: \"))\n",
    "\n",
    "    quiz_questions.append({'question': new_question, 'options': options, 'correct_answer': correct_answer})\n",
    "\n",
    "print(\"Updated quiz questions:\")\n",
    "print(quiz_questions)\n"
   ]
  },
  {
   "cell_type": "code",
   "execution_count": 6,
   "id": "5d6db2de",
   "metadata": {},
   "outputs": [
    {
     "name": "stdout",
     "output_type": "stream",
     "text": [
      "What is the capital of France?\n",
      "1 Berlin\n",
      "2 Madrid\n",
      "3 Paris\n",
      "enter the choice3\n",
      "Which planet is known as the Red Planet?\n",
      "1 Venus\n",
      "2 Mars\n",
      "3 Jupiter\n",
      "enter the choice2\n",
      "What is the largest mammal?\n",
      "1 Elephant\n",
      "2 Blue Whale\n",
      "3 Giraffe\n",
      "enter the choice2\n",
      "Passed to\n"
     ]
    }
   ],
   "source": [
    "score=0\n",
    "for i in quiz_questions:\n",
    "    print(i[\"question\"])\n",
    "    for j,k in enumerate(i[\"options\"],1):\n",
    "        print(j,k)\n",
    "    user=int(input(\"enter the choice\"))\n",
    "    if user == i[\"correct_answer\"]:\n",
    "        score +=1\n",
    "    else:\n",
    "        print(\"the correct answer is :\",i[\"correct_answer\"])\n",
    "if score >=2:\n",
    "    print(\"Passed \")\n",
    "else:\n",
    "    print(\"fail\")"
   ]
  },
  {
   "cell_type": "code",
   "execution_count": 13,
   "id": "074dbe93",
   "metadata": {},
   "outputs": [
    {
     "name": "stdout",
     "output_type": "stream",
     "text": [
      "Numbers in descending order from 1 to 10:\n",
      "10 9 8 7 6 5 4 3 2 1 "
     ]
    }
   ],
   "source": [
    "#21.Write a recursive function to print all numbers in a given range [start, end] in decending order.\n",
    "def print_numbers_descending(start, end):\n",
    "    if start > end:\n",
    "        return\n",
    "    print(end, end=' ')\n",
    "    print_numbers_descending(start, end - 1)\n",
    "\n",
    "# Example usage:\n",
    "start = 1\n",
    "end = 10\n",
    "print(f\"Numbers in descending order from {start} to {end}:\")\n",
    "print_numbers_descending(start, end)\n"
   ]
  },
  {
   "cell_type": "code",
   "execution_count": 10,
   "id": "8c2825ae",
   "metadata": {},
   "outputs": [
    {
     "name": "stdout",
     "output_type": "stream",
     "text": [
      "1\n",
      "2\n",
      "3\n",
      "4\n",
      "5\n",
      "6\n",
      "7\n",
      "8\n",
      "9\n",
      "10\n"
     ]
    }
   ],
   "source": [
    "#22.Write a recursive function to print all numbers in a given range [start, end] in ascending order.\n",
    "def print_numbers_in_range(start, end):\n",
    "    if start <= end:\n",
    "        print(start)\n",
    "        print_numbers_in_range(start + 1, end)\n",
    "\n",
    "# Example usage:\n",
    "start = 1\n",
    "end = 10\n",
    "print_numbers_in_range(start, end)\n"
   ]
  },
  {
   "cell_type": "code",
   "execution_count": 10,
   "id": "f9c29a30",
   "metadata": {},
   "outputs": [
    {
     "name": "stdout",
     "output_type": "stream",
     "text": [
      "The sum of elements in the list is: 15\n"
     ]
    }
   ],
   "source": [
    "#23.Create a recursive function to find the sum of all elements in a list\n",
    "def recursive_list_sum(lst):\n",
    "    if len(lst) == 0:\n",
    "        return 0\n",
    "    else:\n",
    "        return lst[0] + recursive_list_sum(lst[1:])\n",
    "\n",
    "# Example usage:\n",
    "my_list = [1, 2, 3, 4, 5]\n",
    "result = recursive_list_sum(my_list)\n",
    "print(f\"The sum of elements in the list is: {result}\")\n"
   ]
  },
  {
   "cell_type": "code",
   "execution_count": 15,
   "id": "81b2c27f",
   "metadata": {},
   "outputs": [
    {
     "name": "stdout",
     "output_type": "stream",
     "text": [
      "Fibonacci sequence:\n",
      "0\n",
      "1\n",
      "1\n",
      "2\n"
     ]
    }
   ],
   "source": [
    "# Python program to display the Fibonacci sequence\n",
    "\n",
    "def recur_fibo(n):\n",
    "    if n <= 1:\n",
    "        return n\n",
    "    else:\n",
    "        return(recur_fibo(n-1) + recur_fibo(n-2))\n",
    "\n",
    "nterms = 4\n",
    "\n",
    "# check if the number of terms is valid\n",
    "if nterms <= 0:\n",
    "    print(\"Plese enter a positive integer\")\n",
    "else:\n",
    "    print(\"Fibonacci sequence:\")\n",
    "    for i in range(nterms):\n",
    "        print(recur_fibo(i))\n",
    "\n"
   ]
  },
  {
   "cell_type": "code",
   "execution_count": 14,
   "id": "5977c709",
   "metadata": {},
   "outputs": [
    {
     "name": "stdout",
     "output_type": "stream",
     "text": [
      "222\n",
      "22\n",
      "2\n"
     ]
    }
   ],
   "source": [
    "def print_pattern_2(n):\n",
    "    # Base case: If n is 0, do nothing (stop recursion).\n",
    "    if n == 0:\n",
    "        return\n",
    "    \n",
    "    # Recursive case: Print n 2s and then make a recursive call with n-1.\n",
    "    print(\"2\" * n)\n",
    "    print_pattern_2(n - 1)\n",
    "\n",
    "# Example usage:\n",
    "n = 3\n",
    "print_pattern_2(n)\n"
   ]
  },
  {
   "cell_type": "code",
   "execution_count": 16,
   "id": "efaa2a15",
   "metadata": {},
   "outputs": [
    {
     "name": "stdout",
     "output_type": "stream",
     "text": [
      "***\n",
      "**\n",
      "*\n"
     ]
    }
   ],
   "source": [
    "def print_pattern(n):\n",
    "    if n > 0:\n",
    "        print('*' * n)\n",
    "        print_pattern(n - 1)\n",
    "\n",
    "# Call the function with the desired number of lines\n",
    "print_pattern(3)\n"
   ]
  },
  {
   "cell_type": "code",
   "execution_count": 17,
   "id": "94bf3649",
   "metadata": {},
   "outputs": [
    {
     "name": "stdout",
     "output_type": "stream",
     "text": [
      "*******\n",
      " *****\n",
      "  ***\n",
      "   *\n",
      "   *\n",
      "  ***\n",
      " *****\n",
      "*******\n"
     ]
    }
   ],
   "source": [
    "def print_diamond_pattern(n, spaces=0):\n",
    "    if n <= 0:\n",
    "        return\n",
    "   \n",
    "    print(' ' * spaces + '*' * (2 * n - 1))\n",
    "\n",
    "    # Make a recursive call for the upper part of the diamond\n",
    "    print_diamond_pattern(n - 1, spaces + 1)\n",
    "\n",
    "    # Print spaces and '*' characters for the lower half of the diamond\n",
    "    print(' ' * spaces + '*' * (2 * n - 1))\n",
    "\n",
    "# Call the function with the desired number of rows for the diamond (in this case, 4)\n",
    "print_diamond_pattern(4)\n"
   ]
  },
  {
   "cell_type": "code",
   "execution_count": 18,
   "id": "03865272",
   "metadata": {},
   "outputs": [
    {
     "name": "stdout",
     "output_type": "stream",
     "text": [
      "   *\n",
      "  ***\n",
      " *****\n",
      "*******\n"
     ]
    }
   ],
   "source": [
    "def print_triangle_pattern(rows):\n",
    "    for i in range(rows):\n",
    "        # Print spaces\n",
    "        for j in range(rows - i - 1):\n",
    "            print(\" \", end=\"\")\n",
    "        # Print '*' characters\n",
    "        for k in range(2 * i + 1):\n",
    "            print(\"*\", end=\"\")\n",
    "        # Move to the next line after each row\n",
    "        print()\n",
    "\n",
    "print_triangle_pattern(4)\n"
   ]
  },
  {
   "cell_type": "code",
   "execution_count": 21,
   "id": "da227777",
   "metadata": {},
   "outputs": [
    {
     "name": "stdout",
     "output_type": "stream",
     "text": [
      "   *\n",
      "  ***\n",
      " *****\n",
      "*******\n"
     ]
    }
   ],
   "source": [
    "for i in range(4):\n",
    "        for j in range(4 - i - 1):\n",
    "            print(\" \", end=\"\")\n",
    "        for k in range(2 * i + 1):\n",
    "            print(\"*\", end=\"\")\n",
    "        print()"
   ]
  },
  {
   "cell_type": "markdown",
   "id": "706da507",
   "metadata": {},
   "source": [
    "1.\tEvent Management System: \n",
    "Problem Statement: Create a flexible event management system that can handle various types of events with different sets of information. Use kwargs to allow users to add custom parameters for specific events.\n"
   ]
  },
  {
   "cell_type": "code",
   "execution_count": 10,
   "id": "deacf507",
   "metadata": {},
   "outputs": [
    {
     "name": "stdout",
     "output_type": "stream",
     "text": [
      "Creating Conference event\n",
      "location: New York\n",
      "speakers: ['Speaker A', 'Speaker B', 'Speaker C']\n",
      "date: 2023-01-01\n",
      "Creating Birthday event\n",
      "location: mumbai\n",
      "attendies: ['Arun', 'varun']\n",
      "date: 2023-01-01\n"
     ]
    }
   ],
   "source": [
    "def create_event(event_type, **kwargs):\n",
    "    # Process common event information\n",
    "    print(f\"Creating {event_type} event\")\n",
    "\n",
    "    # Process additional event-specific information\n",
    "    for key, value in kwargs.items():\n",
    "        print(f\"{key}: {value}\")\n",
    "\n",
    "create_event('Conference', location='New York', speakers=['Speaker A', 'Speaker B','Speaker C'], date='2023-01-01')\n",
    "create_event('Birthday', location='mumbai', attendies=[\"Arun\",\"varun\"], date='2023-01-01')\n"
   ]
  },
  {
   "cell_type": "markdown",
   "id": "b38e3a91",
   "metadata": {},
   "source": [
    "2.\tReporting Tool for Sales Data: \n",
    "Problem Statement: Develop a reporting tool for analyzing sales data. Use args to allow users to pass variable numbers of metrics (e.g., revenue, units sold) and use kwargs to handle optional filters (e.g., date range, product category).\n"
   ]
  },
  {
   "cell_type": "code",
   "execution_count": 1,
   "id": "f1ee2d8d",
   "metadata": {},
   "outputs": [
    {
     "name": "stdout",
     "output_type": "stream",
     "text": [
      "Analyzing Revenue\n",
      "Analyzing Units Sold\n",
      "Analyzing hi\n",
      "Analyzing hello\n",
      "Applying filter: date_range = ('2023-01-01', '2023-12-31')\n",
      "Applying filter: product_category = Electronics\n"
     ]
    }
   ],
   "source": [
    "def generate_sales_report(*args, **kwargs):\n",
    "    # Process variable metrics\n",
    "    for metric in args:\n",
    "        print(f\"Analyzing {metric}\")\n",
    "\n",
    "    # Process optional filters\n",
    "    for key, value in kwargs.items():\n",
    "        print(f\"Applying filter: {key} = {value}\")\n",
    "\n",
    "generate_sales_report('Revenue', 'Units Sold',\"hi\",\"hello\", date_range=('2023-01-01', '2023-12-31'), product_category='Electronics')\n"
   ]
  },
  {
   "cell_type": "markdown",
   "id": "c73bac79",
   "metadata": {},
   "source": [
    "3.Design a flexible data analysis tool for scientists conducting scientific experiments where the type and number of measurements vary. Utilize *args to pass the measurements and **kwargs to provide additional information such as experiment conditions or settings. Develop the tool to perform a basic analysis, and display both the analysis results and the additional experiment information. "
   ]
  },
  {
   "cell_type": "code",
   "execution_count": 15,
   "id": "a2c07ea9",
   "metadata": {},
   "outputs": [
    {
     "name": "stdout",
     "output_type": "stream",
     "text": [
      "Analysis Result:\n",
      "{'mean_measurement': 18.666666666666668, 'experiment_info': {'temperature': 25, 'pressure': 1.0}}\n"
     ]
    }
   ],
   "source": [
    "def analyze_experiment_data(*measurements, **experiment_info):\n",
    "    mean_measurement = sum(measurements) / len(measurements)\n",
    "    analysis_result = {\n",
    "        'mean_measurement': mean_measurement,\n",
    "        'experiment_info': experiment_info\n",
    "    }\n",
    "\n",
    "    return analysis_result\n",
    "\n",
    "# Example Usage:\n",
    "\n",
    "# Simulate experiment data\n",
    "measurement1 = 15.2\n",
    "measurement2 = 18.7\n",
    "measurement3 = 22.1\n",
    "\n",
    "# Additional experiment information\n",
    "experiment_conditions = {'temperature': 25, 'pressure': 1.0}\n",
    "\n",
    "# Analyze experiment data\n",
    "result = analyze_experiment_data(measurement1, measurement2, measurement3, **experiment_conditions)\n",
    "\n",
    "# Display the analysis result\n",
    "print(\"Analysis Result:\")\n",
    "print(result)\n"
   ]
  },
  {
   "cell_type": "code",
   "execution_count": 17,
   "id": "bf5744d9",
   "metadata": {},
   "outputs": [
    {
     "name": "stdout",
     "output_type": "stream",
     "text": [
      "Experiment Information:\n",
      "condition: High humidity\n",
      "duration: 30 days\n",
      "soil_type: Rich soil\n",
      "Average Measurement: 11.4\n"
     ]
    }
   ],
   "source": [
    "def analyze_experiment(*measurements, **experiment_info):\n",
    "    average_measurement = sum(measurements) / len(measurements)\n",
    "    print(\"Experiment Information:\")\n",
    "    for key, value in experiment_info.items():\n",
    "        print(f\"{key}: {value}\")\n",
    "    print(f\"Average Measurement: {average_measurement}\")\n",
    "\n",
    "result = analyze_experiment(10, 12, 15, 9, 11, condition='High humidity', duration='30 days', soil_type='Rich soil')\n",
    "\n"
   ]
  },
  {
   "cell_type": "code",
   "execution_count": 9,
   "id": "814ae5d4",
   "metadata": {},
   "outputs": [
    {
     "name": "stdout",
     "output_type": "stream",
     "text": [
      "Generated Queries:\n",
      "SELECT * FROM students\n",
      "SELECT * FROM students WHERE age = '20' AND grade = 'A'\n"
     ]
    }
   ],
   "source": [
    "def generate_query(table_name, **kwargs):\n",
    "    query = f\"SELECT * FROM {table_name}\"\n",
    "    if kwargs:\n",
    "        query += \" WHERE \"\n",
    "        conditions = []\n",
    "        for key, value in kwargs.items():\n",
    "            condition = f\"{key} = '{value}'\"\n",
    "            conditions.append(condition)\n",
    "\n",
    "   \n",
    "        query += \" AND \".join(conditions)\n",
    "\n",
    "    return query\n",
    "\n",
    "\n",
    "query1 = generate_query(\"students\")\n",
    "query2 = generate_query(\"students\", age=20, grade='A')\n",
    "\n",
    "\n",
    "print(\"Generated Queries:\")\n",
    "print(query1)\n",
    "print(query2)\n",
    "\n"
   ]
  },
  {
   "cell_type": "code",
   "execution_count": null,
   "id": "688d80b4",
   "metadata": {},
   "outputs": [],
   "source": []
  }
 ],
 "metadata": {
  "kernelspec": {
   "display_name": "Python 3 (ipykernel)",
   "language": "python",
   "name": "python3"
  },
  "language_info": {
   "codemirror_mode": {
    "name": "ipython",
    "version": 3
   },
   "file_extension": ".py",
   "mimetype": "text/x-python",
   "name": "python",
   "nbconvert_exporter": "python",
   "pygments_lexer": "ipython3",
   "version": "3.9.12"
  }
 },
 "nbformat": 4,
 "nbformat_minor": 5
}
